{
 "cells": [
  {
   "cell_type": "markdown",
   "metadata": {},
   "source": [
    "<center>\n",
    "<img src=\"https://cf-courses-data.s3.us.cloud-object-storage.appdomain.cloud/IBMDeveloperSkillsNetwork-RP0101EN-Coursera/v2/M5_Final/images/SN_web_lightmode.png\" width=\"300\">\n",
    "</center>\n"
   ]
  },
  {
   "cell_type": "markdown",
   "metadata": {},
   "source": [
    "<h1>Analysis of Global COVID-19 Pandemic Data</h1>\n",
    "\n",
    "Estimated time needed: **90** minutes\n",
    "\n"
   ]
  },
  {
   "cell_type": "markdown",
   "metadata": {},
   "source": [
    "## Overview:\n",
    "\n",
    "There are 10 tasks in this final project. All tasks will be graded by your peers who are also completing this assignment within the same session.\n",
    "\n",
    "You need to submit the following the screenshot for the code and output for each task for review.\n",
    "\n",
    "If you need to refresh your memories about specific coding details, you may refer to previous hands-on labs for code examples.\n"
   ]
  },
  {
   "cell_type": "code",
   "execution_count": null,
   "metadata": {},
   "outputs": [],
   "source": [
    "# This lab requires 'httr' and 'rvest'packages, which are already pre-loaded into this lab environment.\n",
    "# However, if you are working on your local RStudio, please uncomment the below codes and install the packages.\n",
    "\n",
    "#install.packages(\"httr\")\n",
    "#install.packages(\"rvest\")"
   ]
  },
  {
   "cell_type": "code",
   "execution_count": 1,
   "metadata": {
    "tags": []
   },
   "outputs": [
    {
     "name": "stderr",
     "output_type": "stream",
     "text": [
      "Loading required package: xml2\n"
     ]
    }
   ],
   "source": [
    "library(httr)\n",
    "library(rvest)"
   ]
  },
  {
   "cell_type": "markdown",
   "metadata": {},
   "source": [
    "Note: if you can import above libraries, please use install.packages() to install them first.\n"
   ]
  },
  {
   "cell_type": "markdown",
   "metadata": {},
   "source": [
    "## TASK 1: Get a `COVID-19 pandemic` Wiki page using HTTP request\n"
   ]
  },
  {
   "cell_type": "markdown",
   "metadata": {},
   "source": [
    "First, let's write a function to use HTTP request to get a public COVID-19 Wiki page.\n",
    "\n",
    "Before you write the function, you can open this public page from this \n",
    "\n",
    "URL https://en.wikipedia.org/w/index.php?title=Template:COVID-19_testing_by_country using a web browser.\n",
    "\n",
    "The goal of task 1 is to get the html page using HTTP request (`httr` library)\n"
   ]
  },
  {
   "cell_type": "code",
   "execution_count": 3,
   "metadata": {
    "tags": []
   },
   "outputs": [],
   "source": [
    "\n",
    "get_wiki_covid19_page <- function() {\n",
    "    \n",
    "  # Our target COVID-19 wiki page URL is: https://en.wikipedia.org/w/index.php?title=Template:COVID-19_testing_by_country  \n",
    "  # Which has two parts: \n",
    "    # 1) base URL `https://en.wikipedia.org/w/index.php  \n",
    "    # 2) URL parameter: `title=Template:COVID-19_testing_by_country`, seperated by question mark ?\n",
    "    \n",
    "  # Wiki page base\n",
    "  wiki_base_url <- \"https://en.wikipedia.org/w/index.php\"\n",
    "  # You will need to create a List which has an element called `title` to specify which page you want to get from Wiki\n",
    "  # in our case, it will be `Template:COVID-19_testing_by_country`\n",
    " \n",
    "  # - Use the `GET` function in httr library with a `url` argument and a `query` arugment to get a HTTP response\n",
    "    \n",
    "  # Use the `return` function to return the response\n",
    "\n",
    "}\n",
    "\n",
    "\n",
    "url = \"https://en.wikipedia.org/w/index.php?title=Template:COVID-19_testing_by_country\""
   ]
  },
  {
   "cell_type": "markdown",
   "metadata": {},
   "source": [
    "Call the `get_wiki_covid19_page` function to get a http response with the target html page\n"
   ]
  },
  {
   "cell_type": "code",
   "execution_count": 4,
   "metadata": {
    "tags": []
   },
   "outputs": [
    {
     "data": {
      "text/plain": [
       "Response [https://en.wikipedia.org/w/index.php?title=Template:COVID-19_testing_by_country]\n",
       "  Date: 2024-08-08 22:11\n",
       "  Status: 200\n",
       "  Content-Type: text/html; charset=UTF-8\n",
       "  Size: 466 kB\n",
       "<!DOCTYPE html>\n",
       "<html class=\"client-nojs vector-feature-language-in-header-enabled vector-fea...\n",
       "<head>\n",
       "<meta charset=\"UTF-8\">\n",
       "<title>Template:COVID-19 testing by country - Wikipedia</title>\n",
       "<script>(function(){var className=\"client-js vector-feature-language-in-heade...\n",
       "\"\",\"\"],\"wgDefaultDateFormat\":\"dmy\",\"wgMonthNames\":[\"\",\"January\",\"February\",\"M...\n",
       "\"CS1 uses Russian-language script (ru)\",\"CS1 Russian-language sources (ru)\",\"...\n",
       ",\"CS1 Lithuanian-language sources (lt)\",\"CS1 Malagasy-language sources (mg)\",...\n",
       "\"wgRelevantArticleId\":63303421,\"wgIsProbablyEditable\":false,\"wgRelevantPageIs...\n",
       "..."
      ]
     },
     "metadata": {},
     "output_type": "display_data"
    }
   ],
   "source": [
    "# Call the get_wiki_covid19_page function and print the response\n",
    "response <- GET(url)\n",
    "response"
   ]
  },
  {
   "cell_type": "markdown",
   "metadata": {},
   "source": [
    "## TASK 2: Extract COVID-19 testing data table from the wiki HTML page\n"
   ]
  },
  {
   "cell_type": "markdown",
   "metadata": {},
   "source": [
    "On the COVID-19 testing wiki page, you should see a data table `<table>` node contains COVID-19 testing data by country on the page:\n",
    "\n",
    "<a href=\"https://cognitiveclass.ai/\">\n",
    "    <img src=\"https://cf-courses-data.s3.us.cloud-object-storage.appdomain.cloud/IBMDeveloperSkillsNetwork-RP0101EN-Coursera/v2/M5_Final/images/covid-19-by-country.png\" width=\"400\" align=\"center\">\n",
    "</a>\n",
    "\n",
    "Note the numbers you actually see on your page may be different from above because it is still an on-going pandemic when creating this notebook.\n",
    "\n",
    "The goal of task 2 is to extract above data table and convert it into a data frame\n"
   ]
  },
  {
   "cell_type": "markdown",
   "metadata": {},
   "source": [
    "Now use the `read_html` function in rvest library to get the root html node from response\n"
   ]
  },
  {
   "cell_type": "code",
   "execution_count": 5,
   "metadata": {
    "tags": []
   },
   "outputs": [
    {
     "name": "stdout",
     "output_type": "stream",
     "text": [
      "{html_document}\n",
      "<html class=\"client-nojs vector-feature-language-in-header-enabled vector-feature-language-in-main-page-header-disabled vector-feature-sticky-header-disabled vector-feature-page-tools-pinned-disabled vector-feature-toc-pinned-clientpref-1 vector-feature-main-menu-pinned-disabled vector-feature-limited-width-clientpref-1 vector-feature-limited-width-content-enabled vector-feature-custom-font-size-clientpref-1 vector-feature-appearance-enabled vector-feature-appearance-pinned-clientpref-1 vector-feature-night-mode-enabled skin-theme-clientpref-day vector-toc-available\" lang=\"en\" dir=\"ltr\">\n",
      "[1] <head>\\n<meta http-equiv=\"Content-Type\" content=\"text/html; charset=UTF-8 ...\n",
      "[2] <body class=\"skin--responsive skin-vector skin-vector-search-vue mediawik ...\n"
     ]
    }
   ],
   "source": [
    "# Get the root html node from the http response in task 1 \n",
    "root_node <- read_html(url)\n",
    "print(root_node)"
   ]
  },
  {
   "cell_type": "markdown",
   "metadata": {},
   "source": [
    "Get the tables in the HTML root node using `html_nodes` function.\n"
   ]
  },
  {
   "cell_type": "code",
   "execution_count": 6,
   "metadata": {
    "tags": []
   },
   "outputs": [
    {
     "data": {
      "text/plain": [
       "{xml_nodeset (4)}\n",
       "[1] <table class=\"box-Update plainlinks ombox ombox-content ambox-Update\" rol ...\n",
       "[2] <table class=\"wikitable plainrowheaders sortable collapsible autocollapse ...\n",
       "[3] <table class=\"plainlinks ombox mbox-small ombox-notice\" role=\"presentatio ...\n",
       "[4] <table class=\"wikitable mw-templatedata-doc-params\">\\n<caption><p class=\" ..."
      ]
     },
     "metadata": {},
     "output_type": "display_data"
    }
   ],
   "source": [
    "# Get the table node from the root html node\n",
    "table_url <- \"https://en.wikipedia.org/w/index.php?title=Template: COVID-19_testing_by_country\"\n",
    "root_node <- read_html(url)\n",
    "table_node <- html_nodes(root_node, \"table\")\n",
    "table_node\n",
    "covid_df <- as.data.frame(html_table(table_node[2]))"
   ]
  },
  {
   "cell_type": "markdown",
   "metadata": {},
   "source": [
    "Read the specific table from the multiple tables in the `table_node` using the `html_table` function and convert it into dataframe using `as.data.frame`\n",
    "\n",
    "_Hint:- Please read the `table_node` with index 2(ex:- table_node[2])._\n"
   ]
  },
  {
   "cell_type": "markdown",
   "metadata": {},
   "source": [
    "## TASK 3: Pre-process and export the extracted data frame\n",
    "\n",
    "The goal of task 3 is to pre-process the extracted data frame from the previous step, and export it as a csv file\n"
   ]
  },
  {
   "cell_type": "markdown",
   "metadata": {},
   "source": [
    "Let's get a summary of the data frame\n"
   ]
  },
  {
   "cell_type": "code",
   "execution_count": 8,
   "metadata": {
    "tags": []
   },
   "outputs": [
    {
     "data": {
      "text/plain": [
       " Country.or.region    Date.a.             Tested            Units.b.        \n",
       " Length:173         Length:173         Length:173         Length:173        \n",
       " Class :character   Class :character   Class :character   Class :character  \n",
       " Mode  :character   Mode  :character   Mode  :character   Mode  :character  \n",
       " Confirmed.cases.   Confirmed..tested.. Tested..population..\n",
       " Length:173         Length:173          Length:173          \n",
       " Class :character   Class :character    Class :character    \n",
       " Mode  :character   Mode  :character    Mode  :character    \n",
       " Confirmed..population..     Ref.          \n",
       " Length:173              Length:173        \n",
       " Class :character        Class :character  \n",
       " Mode  :character        Mode  :character  "
      ]
     },
     "metadata": {},
     "output_type": "display_data"
    },
    {
     "data": {
      "text/html": [
       "<table>\n",
       "<caption>A data.frame: 6 × 9</caption>\n",
       "<thead>\n",
       "\t<tr><th></th><th scope=col>Country.or.region</th><th scope=col>Date.a.</th><th scope=col>Tested</th><th scope=col>Units.b.</th><th scope=col>Confirmed.cases.</th><th scope=col>Confirmed..tested..</th><th scope=col>Tested..population..</th><th scope=col>Confirmed..population..</th><th scope=col>Ref.</th></tr>\n",
       "\t<tr><th></th><th scope=col>&lt;chr&gt;</th><th scope=col>&lt;chr&gt;</th><th scope=col>&lt;chr&gt;</th><th scope=col>&lt;chr&gt;</th><th scope=col>&lt;chr&gt;</th><th scope=col>&lt;chr&gt;</th><th scope=col>&lt;chr&gt;</th><th scope=col>&lt;chr&gt;</th><th scope=col>&lt;chr&gt;</th></tr>\n",
       "</thead>\n",
       "<tbody>\n",
       "\t<tr><th scope=row>1</th><td>Afghanistan        </td><td>17 Dec 2020</td><td>154,767</td><td>samples</td><td>49,621</td><td>32.1</td><td>0.40</td><td>0.13 </td><td>[1]   </td></tr>\n",
       "\t<tr><th scope=row>2</th><td>Albania            </td><td>18 Feb 2021</td><td>428,654</td><td>samples</td><td>96,838</td><td>22.6</td><td>15.0</td><td>3.4  </td><td>[2]   </td></tr>\n",
       "\t<tr><th scope=row>3</th><td>Algeria            </td><td>2 Nov 2020 </td><td>230,553</td><td>samples</td><td>58,574</td><td>25.4</td><td>0.53</td><td>0.13 </td><td>[3][4]</td></tr>\n",
       "\t<tr><th scope=row>4</th><td>Andorra            </td><td>23 Feb 2022</td><td>300,307</td><td>samples</td><td>37,958</td><td>12.6</td><td>387 </td><td>49.0 </td><td>[5]   </td></tr>\n",
       "\t<tr><th scope=row>5</th><td>Angola             </td><td>2 Feb 2021 </td><td>399,228</td><td>samples</td><td>20,981</td><td>5.3 </td><td>1.3 </td><td>0.067</td><td>[6]   </td></tr>\n",
       "\t<tr><th scope=row>6</th><td>Antigua and Barbuda</td><td>6 Mar 2021 </td><td>15,268 </td><td>samples</td><td>832   </td><td>5.4 </td><td>15.9</td><td>0.86 </td><td>[7]   </td></tr>\n",
       "</tbody>\n",
       "</table>\n"
      ],
      "text/latex": [
       "A data.frame: 6 × 9\n",
       "\\begin{tabular}{r|lllllllll}\n",
       "  & Country.or.region & Date.a. & Tested & Units.b. & Confirmed.cases. & Confirmed..tested.. & Tested..population.. & Confirmed..population.. & Ref.\\\\\n",
       "  & <chr> & <chr> & <chr> & <chr> & <chr> & <chr> & <chr> & <chr> & <chr>\\\\\n",
       "\\hline\n",
       "\t1 & Afghanistan         & 17 Dec 2020 & 154,767 & samples & 49,621 & 32.1 & 0.40 & 0.13  & {[}1{]}   \\\\\n",
       "\t2 & Albania             & 18 Feb 2021 & 428,654 & samples & 96,838 & 22.6 & 15.0 & 3.4   & {[}2{]}   \\\\\n",
       "\t3 & Algeria             & 2 Nov 2020  & 230,553 & samples & 58,574 & 25.4 & 0.53 & 0.13  & {[}3{]}{[}4{]}\\\\\n",
       "\t4 & Andorra             & 23 Feb 2022 & 300,307 & samples & 37,958 & 12.6 & 387  & 49.0  & {[}5{]}   \\\\\n",
       "\t5 & Angola              & 2 Feb 2021  & 399,228 & samples & 20,981 & 5.3  & 1.3  & 0.067 & {[}6{]}   \\\\\n",
       "\t6 & Antigua and Barbuda & 6 Mar 2021  & 15,268  & samples & 832    & 5.4  & 15.9 & 0.86  & {[}7{]}   \\\\\n",
       "\\end{tabular}\n"
      ],
      "text/markdown": [
       "\n",
       "A data.frame: 6 × 9\n",
       "\n",
       "| <!--/--> | Country.or.region &lt;chr&gt; | Date.a. &lt;chr&gt; | Tested &lt;chr&gt; | Units.b. &lt;chr&gt; | Confirmed.cases. &lt;chr&gt; | Confirmed..tested.. &lt;chr&gt; | Tested..population.. &lt;chr&gt; | Confirmed..population.. &lt;chr&gt; | Ref. &lt;chr&gt; |\n",
       "|---|---|---|---|---|---|---|---|---|---|\n",
       "| 1 | Afghanistan         | 17 Dec 2020 | 154,767 | samples | 49,621 | 32.1 | 0.40 | 0.13  | [1]    |\n",
       "| 2 | Albania             | 18 Feb 2021 | 428,654 | samples | 96,838 | 22.6 | 15.0 | 3.4   | [2]    |\n",
       "| 3 | Algeria             | 2 Nov 2020  | 230,553 | samples | 58,574 | 25.4 | 0.53 | 0.13  | [3][4] |\n",
       "| 4 | Andorra             | 23 Feb 2022 | 300,307 | samples | 37,958 | 12.6 | 387  | 49.0  | [5]    |\n",
       "| 5 | Angola              | 2 Feb 2021  | 399,228 | samples | 20,981 | 5.3  | 1.3  | 0.067 | [6]    |\n",
       "| 6 | Antigua and Barbuda | 6 Mar 2021  | 15,268  | samples | 832    | 5.4  | 15.9 | 0.86  | [7]    |\n",
       "\n"
      ],
      "text/plain": [
       "  Country.or.region   Date.a.     Tested  Units.b. Confirmed.cases.\n",
       "1 Afghanistan         17 Dec 2020 154,767 samples  49,621          \n",
       "2 Albania             18 Feb 2021 428,654 samples  96,838          \n",
       "3 Algeria             2 Nov 2020  230,553 samples  58,574          \n",
       "4 Andorra             23 Feb 2022 300,307 samples  37,958          \n",
       "5 Angola              2 Feb 2021  399,228 samples  20,981          \n",
       "6 Antigua and Barbuda 6 Mar 2021  15,268  samples  832             \n",
       "  Confirmed..tested.. Tested..population.. Confirmed..population.. Ref.  \n",
       "1 32.1                0.40                 0.13                    [1]   \n",
       "2 22.6                15.0                 3.4                     [2]   \n",
       "3 25.4                0.53                 0.13                    [3][4]\n",
       "4 12.6                387                  49.0                    [5]   \n",
       "5 5.3                 1.3                  0.067                   [6]   \n",
       "6 5.4                 15.9                 0.86                    [7]   "
      ]
     },
     "metadata": {},
     "output_type": "display_data"
    }
   ],
   "source": [
    "# Print the summary of the data frame\n",
    "summary(covid_df)\n",
    "head(covid_df)"
   ]
  },
  {
   "cell_type": "markdown",
   "metadata": {},
   "source": [
    "As you can see from the summary, the columns names are little bit different to understand and some column data types are not correct. For example, the `Tested` column shows as `character`. \n",
    "\n",
    "As such, the data frame read from HTML table will need some pre-processing such as removing irrelvant columns, renaming columns, and convert columns into proper data types.\n"
   ]
  },
  {
   "cell_type": "markdown",
   "metadata": {},
   "source": [
    "We have prepared a pre-processing function for you to conver the data frame but you can also try to write one by yourself\n"
   ]
  },
  {
   "cell_type": "code",
   "execution_count": 9,
   "metadata": {
    "tags": []
   },
   "outputs": [],
   "source": [
    "preprocess_covid_data_frame <- function(data_frame) {\n",
    "    \n",
    "    shape <- dim(data_frame)\n",
    "\n",
    "    # Remove the World row\n",
    "    data_frame<-data_frame[!(data_frame$`Country.or.region`==\"World\"),]\n",
    "    # Remove the last row\n",
    "    data_frame <- data_frame[1:172, ]\n",
    "    \n",
    "    # We dont need the Units and Ref columns, so can be removed\n",
    "    data_frame[\"Ref.\"] <- NULL\n",
    "    data_frame[\"Units.b\"] <- NULL\n",
    "    \n",
    "    # Renaming the columns\n",
    "    names(data_frame) <- c(\"country\", \"date\", \"tested\", \"confirmed\", \"confirmed.tested.ratio\", \"tested.population.ratio\", \"confirmed.population.ratio\")\n",
    "    \n",
    "    # Convert column data types\n",
    "    data_frame$country <- as.factor(data_frame$country)\n",
    "    data_frame$date <- as.factor(data_frame$date)\n",
    "    data_frame$tested <- as.numeric(gsub(\",\",\"\",data_frame$tested))\n",
    "    data_frame$confirmed <- as.numeric(gsub(\",\",\"\",data_frame$confirmed))\n",
    "    data_frame$'confirmed.tested.ratio' <- as.numeric(gsub(\",\",\"\",data_frame$`confirmed.tested.ratio`))\n",
    "    data_frame$'tested.population.ratio' <- as.numeric(gsub(\",\",\"\",data_frame$`tested.population.ratio`))\n",
    "    data_frame$'confirmed.population.ratio' <- as.numeric(gsub(\",\",\"\",data_frame$`confirmed.population.ratio`))\n",
    "    \n",
    "    return(data_frame)\n",
    "}\n"
   ]
  },
  {
   "cell_type": "markdown",
   "metadata": {},
   "source": [
    "Call the `preprocess_covid_data_frame` function\n"
   ]
  },
  {
   "cell_type": "raw",
   "metadata": {
    "tags": []
   },
   "source": [
    "# call `preprocess_covid_data_frame` function and assign it to a new data frame\n",
    "new_covid_df <- preprocess_covid_data_frame(covid_df)"
   ]
  },
  {
   "cell_type": "code",
   "execution_count": 10,
   "metadata": {
    "tags": []
   },
   "outputs": [
    {
     "ename": "ERROR",
     "evalue": "Error in summary(new_covid_df): object 'new_covid_df' not found\n",
     "execution_count": 10,
     "output_type": "error",
     "traceback": [
      "Error in summary(new_covid_df): object 'new_covid_df' not found\nTraceback:\n",
      "1. summary(new_covid_df)"
     ]
    }
   ],
   "source": [
    "# Print the summary of the processed data frame\n",
    "summary(new_covid_df)"
   ]
  },
  {
   "cell_type": "markdown",
   "metadata": {},
   "source": [
    "Get the summary of the processed data frame again\n"
   ]
  },
  {
   "cell_type": "markdown",
   "metadata": {},
   "source": [
    "After pre-processing, you can see the columns and columns names are simplified, and columns types are converted into correct types.\n"
   ]
  },
  {
   "cell_type": "markdown",
   "metadata": {},
   "source": [
    "The data frame has following columns:\n",
    "\n",
    "- **country** - The name of the country\n",
    "- **date** - Reported date\n",
    "- **tested** - Total tested cases by the reported date\n",
    "- **confirmed** - Total confirmed cases by the reported date\n",
    "- **confirmed.tested.ratio** - The ratio of confirmed cases to the tested cases\n",
    "- **tested.population.ratio** - The ratio of tested cases to the population of the country\n",
    "- **confirmed.population.ratio** - The ratio of confirmed cases to the population of the country\n"
   ]
  },
  {
   "cell_type": "markdown",
   "metadata": {},
   "source": [
    "OK, we can call `write.csv()` function to save the csv file into a file. \n"
   ]
  },
  {
   "cell_type": "code",
   "execution_count": 34,
   "metadata": {
    "tags": []
   },
   "outputs": [
    {
     "ename": "ERROR",
     "evalue": "Error in is.data.frame(x): object 'new_covid_df' not found\n",
     "execution_count": 34,
     "output_type": "error",
     "traceback": [
      "Error in is.data.frame(x): object 'new_covid_df' not found\nTraceback:\n",
      "1. write.csv(new_covid_df, \"covid.csv\")",
      "2. eval.parent(Call)",
      "3. eval(expr, p)",
      "4. eval(expr, p)",
      "5. write.table(new_covid_df, \"covid.csv\", col.names = NA, sep = \",\", \n .     dec = \".\", qmethod = \"double\")",
      "6. is.data.frame(x)"
     ]
    }
   ],
   "source": [
    "# Export the data frame to a csv file\n"
   ]
  },
  {
   "cell_type": "markdown",
   "metadata": {},
   "source": [
    "Note for IBM Waston Studio, there is no traditional \"hard disk\" associated with a R workspace.\n",
    "\n",
    "Even if you call `write.csv()` method to save the data frame as a csv file, it won't be shown in IBM Cloud Object Storage asset UI automatically.\n",
    "\n",
    "However, you may still check if the `covid.csv` exists using following code snippet:\n"
   ]
  },
  {
   "cell_type": "code",
   "execution_count": null,
   "metadata": {},
   "outputs": [],
   "source": [
    "# Get working directory\n",
    "wd <- getwd()\n",
    "# Get exported \n",
    "file_path <- paste(wd, sep=\"\", \"/covid.csv\")\n",
    "# File path\n",
    "print(file_path)\n",
    "file.exists(file_path)"
   ]
  },
  {
   "cell_type": "markdown",
   "metadata": {},
   "source": [
    "**Optional Step**: If you have difficulties finishing above webscraping tasks, you may still continue with next tasks by downloading a provided csv file from here:\n"
   ]
  },
  {
   "cell_type": "code",
   "execution_count": null,
   "metadata": {},
   "outputs": [],
   "source": [
    "## Download a sample csv file\n",
    "# covid_csv_file <- download.file(\"https://cf-courses-data.s3.us.cloud-object-storage.appdomain.cloud/IBMDeveloperSkillsNetwork-RP0101EN-Coursera/v2/dataset/covid.csv\", destfile=\"covid.csv\")\n",
    "# covid_data_frame_csv <- read.csv(\"covid.csv\", header=TRUE, sep=\",\")"
   ]
  },
  {
   "cell_type": "markdown",
   "metadata": {},
   "source": [
    "## TASK 4: Get a subset of the extracted data frame\n",
    "\n",
    "The goal of task 4 is to get the 5th to 10th rows from the data frame with only `country` and `confirmed` columns selected\n"
   ]
  },
  {
   "cell_type": "code",
   "execution_count": null,
   "metadata": {},
   "outputs": [],
   "source": [
    "# Read covid_data_frame_csv from the csv file\n",
    "\n",
    "# Get the 5th to 10th rows, with two \"country\" \"confirmed\" columns\n"
   ]
  },
  {
   "cell_type": "markdown",
   "metadata": {},
   "source": [
    "## TASK 5: Calculate worldwide COVID testing positive ratio\n",
    "\n",
    "The goal of task 5 is to get the total confirmed and tested cases worldwide, and try to figure the overall positive ratio using `confirmed cases / tested cases`\n"
   ]
  },
  {
   "cell_type": "code",
   "execution_count": null,
   "metadata": {},
   "outputs": [],
   "source": [
    "# Get the total confirmed cases worldwide\n",
    "\n",
    "# Get the total tested cases worldwide\n",
    "\n",
    "# Get the positive ratio (confirmed / tested)\n"
   ]
  },
  {
   "cell_type": "markdown",
   "metadata": {},
   "source": [
    "## TASK 6: Get a country list which reported their testing data \n",
    "\n",
    "The goal of task 6 is to get a catalog or sorted list of countries who have reported their COVID-19 testing data\n"
   ]
  },
  {
   "cell_type": "code",
   "execution_count": null,
   "metadata": {},
   "outputs": [],
   "source": [
    "# Get the `country` column\n",
    "\n",
    "# Check its class (should be Factor)\n",
    "\n",
    "# Conver the country column into character so that you can easily sort them\n",
    "\n",
    "# Sort the countries AtoZ\n",
    "\n",
    "# Sort the countries ZtoA\n",
    "\n",
    "# Print the sorted ZtoA list\n"
   ]
  },
  {
   "cell_type": "markdown",
   "metadata": {},
   "source": [
    "## TASK 7: Identify countries names with a specific pattern\n",
    "\n",
    "The goal of task 7 is using a regular expression to find any countires start with `United`\n"
   ]
  },
  {
   "cell_type": "code",
   "execution_count": null,
   "metadata": {},
   "outputs": [],
   "source": [
    "# Use a regular expression `United.+` to find matches\n",
    "\n",
    "# Print the matched country names\n"
   ]
  },
  {
   "cell_type": "markdown",
   "metadata": {},
   "source": [
    "## TASK 8: Pick two countries you are interested, and then review their testing data\n",
    "\n",
    "The goal of task 8 is to compare the COVID-19 test data between two countires, you will need to select two rows from the dataframe, and select `country`, `confirmed`, `confirmed-population-ratio` columns\n"
   ]
  },
  {
   "cell_type": "code",
   "execution_count": null,
   "metadata": {},
   "outputs": [],
   "source": [
    "# Select a subset (should be only one row) of data frame based on a selected country name and columns\n",
    "\n",
    "\n",
    "# Select a subset (should be only one row) of data frame based on a selected country name and columns\n"
   ]
  },
  {
   "cell_type": "markdown",
   "metadata": {},
   "source": [
    "## TASK 9: Compare which one of the selected countries has a larger ratio of confirmed cases to population\n",
    "\n",
    "The goal of task 9 is to find out which country you have selected before has larger ratio of confirmed cases to population, which may indicate that country has higher COVID-19 infection risk\n"
   ]
  },
  {
   "cell_type": "code",
   "execution_count": null,
   "metadata": {},
   "outputs": [],
   "source": [
    "# Use if-else statement\n",
    "# if (check which confirmed.population value is greater) {\n",
    "#    print()\n",
    "# } else {\n",
    "#    print()\n",
    "# }\n"
   ]
  },
  {
   "cell_type": "markdown",
   "metadata": {},
   "source": [
    "## TASK 10: Find countries with confirmed to population ratio rate less than a threshold\n",
    "\n",
    "The goal of task 10 is to find out which countries have the confirmed to population ratio less than 1%, it may indicate the risk of those countries are relatively low\n"
   ]
  },
  {
   "cell_type": "code",
   "execution_count": null,
   "metadata": {},
   "outputs": [],
   "source": [
    "# Get a subset of any countries with `confirmed.population.ratio` less than the threshold\n"
   ]
  }
 ],
 "metadata": {
  "kernelspec": {
   "display_name": "R",
   "language": "R",
   "name": "conda-env-r-r"
  },
  "language_info": {
   "codemirror_mode": "r",
   "file_extension": ".r",
   "mimetype": "text/x-r-source",
   "name": "R",
   "pygments_lexer": "r",
   "version": "3.5.1"
  }
 },
 "nbformat": 4,
 "nbformat_minor": 4
}
